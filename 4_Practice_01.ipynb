{
 "cells": [
  {
   "cell_type": "markdown",
   "metadata": {},
   "source": [
    "\n",
    "# Machine Learning & AI: Practice 1\n",
    "\n",
    "-----------\n",
    "\n",
    "\n",
    "<br><br>\n",
    "\n",
    "<h3><div style=\"text-align: center\"> 한양대학교 에리카, AI Lab <br><br>\n",
    "이상근 </div> </h3>\n"
   ]
  },
  {
   "cell_type": "markdown",
   "metadata": {
    "hide_input": true
   },
   "source": [
    "## Pandas.DaraFrame Attributes\n",
    "\n",
    "  Attr   | Desc\n",
    "  ------ | :-----\n",
    "  T \t | Transpose index and columns \n",
    "  values | Numpy representation of NDFrame\n",
    "         |\n",
    "  ix \t | A primarily label-location based indexer, with integer position fallback \n",
    "  iloc \t | Purely integer-location based indexing for selection by position\n",
    "  loc \t | Purely label-location based indexer for selection by label\n",
    "         |\n",
    "  ndim \t | Number of axes / array dimensions\n",
    "  shape  | Return a tuple representing the dimensionality of the DataFrame\n",
    "  size \t | number of elements in the NDFrame\n",
    "         |\n",
    "  at |\tFast label-based scalar accessor\n",
    "  iat \t| Fast integer location scalar accessor.\n",
    "       |\n",
    "  axes |\tReturn a list with the row axis labels and column axis labels as the only members.\n",
    " dtypes | \tReturn the dtypes in this object.\n",
    "  empty | \tTrue if NDFrame is entirely empty [no items], meaning any of the axes are of length 0.\n",
    "  ftypes | \tReturn the ftypes (indication of sparse/dense and dtype) in this object.\n"
   ]
  },
  {
   "cell_type": "markdown",
   "metadata": {},
   "source": [
    "## Prepare gene expression data"
   ]
  },
  {
   "cell_type": "code",
   "execution_count": 1,
   "metadata": {},
   "outputs": [
    {
     "name": "stdout",
     "output_type": "stream",
     "text": [
      "(19785, 123)\n",
      "(19785, 30)\n"
     ]
    }
   ],
   "source": [
    "import os\n",
    "import pandas as pd\n",
    "\n",
    "matrix1 = pd.read_table('./data/brca_expression_5yr_survive.tsv', index_col=0)\n",
    "matrix2 = pd.read_table('./data/brca_expression_5yr_dead.tsv', index_col=0)\n",
    "print(matrix1.shape)\n",
    "print(matrix2.shape)"
   ]
  },
  {
   "cell_type": "code",
   "execution_count": 2,
   "metadata": {},
   "outputs": [
    {
     "name": "stdout",
     "output_type": "stream",
     "text": [
      "(19785, 153)\n"
     ]
    }
   ],
   "source": [
    "matrix = pd.concat([matrix1, matrix2], axis=1)\n",
    "print(matrix.shape)\n",
    "#matrix"
   ]
  },
  {
   "cell_type": "markdown",
   "metadata": {},
   "source": [
    "## Select top 2000 genes with differential expression"
   ]
  },
  {
   "cell_type": "code",
   "execution_count": 3,
   "metadata": {},
   "outputs": [
    {
     "name": "stdout",
     "output_type": "stream",
     "text": [
      "Genes\n",
      "SCGB2A2       16.306894\n",
      "SCGB1D2       13.298169\n",
      "TFF1          11.900891\n",
      "PIP           11.504788\n",
      "MUCL1         11.223484\n",
      "CALML5         9.983032\n",
      "AGR2           9.490496\n",
      "LTF            9.427619\n",
      "S100A7         9.364815\n",
      "AGR3           9.314629\n",
      "TFF3           9.293344\n",
      "FDCSP          8.883313\n",
      "CEACAM6        8.793593\n",
      "CPB1           7.793018\n",
      "KRT81          7.686041\n",
      "GABRP          7.661703\n",
      "S100A9         7.431961\n",
      "CRABP1         7.414645\n",
      "S100A8         7.064535\n",
      "EEF1A2         6.838855\n",
      "FOXA1          6.562160\n",
      "CLIC6          6.431489\n",
      "CLEC3A         6.265374\n",
      "WFDC2          6.224451\n",
      "GFRA1          6.103769\n",
      "PEG10          6.096727\n",
      "SLC7A2         6.056653\n",
      "S100P          6.053938\n",
      "BMPR1B         6.034866\n",
      "FABP4          5.963725\n",
      "                ...    \n",
      "SPOPL          1.001627\n",
      "AFF4           1.001539\n",
      "SORBS1         1.001514\n",
      "NUCB2          1.001399\n",
      "PABPC1L        1.001020\n",
      "SLCO2A1        1.000985\n",
      "RTN2           1.000724\n",
      "TGFBR2         1.000622\n",
      "KCND3          1.000461\n",
      "ARSD           1.000269\n",
      "NEDD4L         0.999741\n",
      "SLC2A3         0.999628\n",
      "C3orf52        0.999447\n",
      "ROBO1          0.999417\n",
      "SLC38A3        0.998689\n",
      "CYP4F8         0.998233\n",
      "NCF2           0.995752\n",
      "PLBD1          0.995509\n",
      "ZNF385B        0.995372\n",
      "EPB41L2        0.995338\n",
      "AHR            0.995114\n",
      "ST6GALNAC4     0.994890\n",
      "TMEM47         0.994666\n",
      "NUPR1          0.994516\n",
      "DMTN           0.994156\n",
      "OXCT1          0.993884\n",
      "RELB           0.993563\n",
      "GPC6           0.993499\n",
      "LYPD6          0.992583\n",
      "GIMAP2         0.990925\n",
      "Length: 2000, dtype: float64\n"
     ]
    }
   ],
   "source": [
    "num_variables = 2000\n",
    "\n",
    "expr_var = matrix.var(axis=1)\n",
    "\n",
    "expr_var_sorted = expr_var.sort_values(ascending=False)\n",
    "\n",
    "top_names = expr_var_sorted[0:num_variables]\n",
    "print(top_names)"
   ]
  },
  {
   "cell_type": "code",
   "execution_count": 4,
   "metadata": {},
   "outputs": [
    {
     "name": "stdout",
     "output_type": "stream",
     "text": [
      "(2000, 123) (2000, 30) (2000, 153)\n"
     ]
    }
   ],
   "source": [
    "matrix = matrix.loc[top_names.index]\n",
    "matrix1 = matrix1.loc[top_names.index]\n",
    "matrix2 = matrix2.loc[top_names.index]\n",
    "print(matrix1.shape, matrix2.shape, matrix.shape)"
   ]
  },
  {
   "cell_type": "markdown",
   "metadata": {},
   "source": [
    "## Split the data into training and test set"
   ]
  },
  {
   "cell_type": "code",
   "execution_count": 5,
   "metadata": {},
   "outputs": [
    {
     "name": "stdout",
     "output_type": "stream",
     "text": [
      "(2000, 82) (2000, 20) (2000, 102) (2000, 51)\n"
     ]
    }
   ],
   "source": [
    "import numpy as np\n",
    "\n",
    "# set seed for random number generator\n",
    "seed = 0\n",
    "np.random.seed(seed)\n",
    "\n",
    "# select 30% of each group as test data\n",
    "sel1 = np.random.choice(matrix1.shape[1], size=41, replace=False)\n",
    "sel2 = np.random.choice(matrix2.shape[1], size=10, replace=False)\n",
    "\n",
    "test = pd.concat([matrix1.iloc[:, sel1], matrix2.iloc[:, sel2]], axis=1)\n",
    "\n",
    "# drop the samples from the tables\n",
    "matrix1.drop(matrix1.columns[sel1], axis=1, inplace=True)\n",
    "matrix2.drop(matrix2.columns[sel2], axis=1, inplace=True)\n",
    "matrix = pd.concat([matrix1, matrix2], axis=1)\n",
    "print(matrix1.shape, matrix2.shape, matrix.shape, test.shape)\n"
   ]
  },
  {
   "cell_type": "markdown",
   "metadata": {},
   "source": [
    "## Row: Samples, Columnes: Attributes"
   ]
  },
  {
   "cell_type": "code",
   "execution_count": 6,
   "metadata": {
    "collapsed": true
   },
   "outputs": [],
   "source": [
    "matrix = matrix.T # training data\n",
    "test = test.T # test data"
   ]
  },
  {
   "cell_type": "markdown",
   "metadata": {},
   "source": [
    "## Data Pre-processing: Standardization"
   ]
  },
  {
   "cell_type": "code",
   "execution_count": 7,
   "metadata": {
    "collapsed": true
   },
   "outputs": [],
   "source": [
    "from sklearn.preprocessing import StandardScaler\n",
    "\n",
    "sc = StandardScaler()\n",
    "sc.fit(matrix.values) # not on the test set\n",
    "X_train_std = sc.transform(matrix.values)\n",
    "X_test_std = sc.transform(test.values)\n",
    "\n",
    "y_train = np.r_[matrix1.shape[1]*[0], matrix2.shape[1]*[1]]\n",
    "y_test = np.r_[sel1.size*[0], sel2.size*[1]]\n",
    "#y_test"
   ]
  },
  {
   "cell_type": "markdown",
   "metadata": {
    "collapsed": true
   },
   "source": [
    "## Classification with Logistic Regression"
   ]
  },
  {
   "cell_type": "code",
   "execution_count": 8,
   "metadata": {},
   "outputs": [
    {
     "data": {
      "text/plain": [
       "LogisticRegression(C=1000, class_weight=None, dual=False, fit_intercept=True,\n",
       "          intercept_scaling=1, max_iter=100, multi_class='ovr', n_jobs=1,\n",
       "          penalty='l2', random_state=0, solver='liblinear', tol=0.0001,\n",
       "          verbose=0, warm_start=False)"
      ]
     },
     "execution_count": 8,
     "metadata": {},
     "output_type": "execute_result"
    }
   ],
   "source": [
    "from sklearn.linear_model import LogisticRegression\n",
    "\n",
    "lr = LogisticRegression(C=1000, random_state=0)\n",
    "lr.fit(X_train_std, y_train)\n"
   ]
  },
  {
   "cell_type": "code",
   "execution_count": 9,
   "metadata": {},
   "outputs": [
    {
     "name": "stdout",
     "output_type": "stream",
     "text": [
      "Train-set Accuracy: 1.00\n",
      "Test-set Accuracy: 0.67\n"
     ]
    }
   ],
   "source": [
    "from sklearn.metrics import accuracy_score\n",
    "\n",
    "y_pred = lr.predict(X_train_std)\n",
    "print('Train-set Accuracy: %.2f' % accuracy_score(y_train, y_pred))\n",
    "y_pred = lr.predict(X_test_std)\n",
    "print('Test-set Accuracy: %.2f' % accuracy_score(y_test, y_pred))"
   ]
  },
  {
   "cell_type": "markdown",
   "metadata": {},
   "source": [
    "## Classification with SVM"
   ]
  },
  {
   "cell_type": "code",
   "execution_count": 10,
   "metadata": {},
   "outputs": [
    {
     "data": {
      "text/plain": [
       "SVC(C=10.0, cache_size=200, class_weight=None, coef0=0.0,\n",
       "  decision_function_shape='ovr', degree=3, gamma='auto', kernel='linear',\n",
       "  max_iter=-1, probability=False, random_state=0, shrinking=True,\n",
       "  tol=0.001, verbose=False)"
      ]
     },
     "execution_count": 10,
     "metadata": {},
     "output_type": "execute_result"
    }
   ],
   "source": [
    "from sklearn.svm import SVC\n",
    "\n",
    "svm = SVC(kernel='linear', random_state=0, C=10.0)\n",
    "svm.fit(X_train_std, y_train)"
   ]
  },
  {
   "cell_type": "code",
   "execution_count": 11,
   "metadata": {},
   "outputs": [
    {
     "name": "stdout",
     "output_type": "stream",
     "text": [
      "Train-set Accuracy: 1.00\n",
      "Test-set Accuracy: 0.78\n"
     ]
    }
   ],
   "source": [
    "y_pred = svm.predict(X_train_std)\n",
    "print('Train-set Accuracy: %.2f' % accuracy_score(y_train, y_pred))\n",
    "y_pred = svm.predict(X_test_std)\n",
    "print('Test-set Accuracy: %.2f' % accuracy_score(y_test, y_pred))"
   ]
  },
  {
   "cell_type": "markdown",
   "metadata": {},
   "source": [
    "## PCA Analysis"
   ]
  },
  {
   "cell_type": "code",
   "execution_count": 12,
   "metadata": {},
   "outputs": [
    {
     "data": {
      "image/png": "[encoded data removed]",
      "text/plain": [
       "<matplotlib.figure.Figure at 0x108f41080>"
      ]
     },
     "metadata": {},
     "output_type": "display_data"
    }
   ],
   "source": [
    "from sklearn.decomposition import PCA\n",
    "import matplotlib.pyplot as plt\n",
    "\n",
    "pca = PCA()\n",
    "X_train_pca = pca.fit_transform(X_train_std)\n",
    "X_test_pca = pca.transform(X_test_std)\n",
    "\n",
    "vals = pca.explained_variance_ratio_[:]\n",
    "\n",
    "plt.bar(range(0, vals.size), vals, alpha=0.5, align='center')\n",
    "plt.step(range(0, vals.size), np.cumsum(vals), where='mid')\n",
    "plt.ylabel('Explained variance ratio')\n",
    "plt.xlabel('Principal components')\n",
    "plt.show()"
   ]
  },
  {
   "cell_type": "code",
   "execution_count": 13,
   "metadata": {},
   "outputs": [
    {
     "name": "stdout",
     "output_type": "stream",
     "text": [
      "(102, 10)\n"
     ]
    },
    {
     "data": {
      "image/png": "[encoded data removed]",
      "text/plain": [
       "<matplotlib.figure.Figure at 0x1034bd358>"
      ]
     },
     "metadata": {},
     "output_type": "display_data"
    }
   ],
   "source": [
    "from sklearn.decomposition import PCA\n",
    "\n",
    "pca = PCA(n_components=10)\n",
    "X_train_pca = pca.fit_transform(X_train_std)\n",
    "X_test_pca = pca.transform(X_test_std)\n",
    "\n",
    "print(X_train_pca.shape)\n",
    "\n",
    "#plt.scatter(X_train_pca[:, 0], X_train_pca[:, 1])\n",
    "plt.scatter(X_train_pca[y_train==0, 0], X_train_pca[y_train==0, 1], marker='o')\n",
    "plt.scatter(X_train_pca[y_train==1, 0], X_train_pca[y_train==1, 1], marker='x')\n",
    "plt.xlabel('PC 1')\n",
    "plt.ylabel('PC 2')\n",
    "plt.show()\n"
   ]
  },
  {
   "cell_type": "code",
   "execution_count": null,
   "metadata": {
    "collapsed": true
   },
   "outputs": [],
   "source": []
  },
  {
   "cell_type": "code",
   "execution_count": null,
   "metadata": {
    "collapsed": true
   },
   "outputs": [],
   "source": []
  }
 ],
 "metadata": {
  "kernelspec": {
   "display_name": "Python 3",
   "language": "python",
   "name": "python3"
  },
  "language_info": {
   "codemirror_mode": {
    "name": "ipython",
    "version": 3
   },
   "file_extension": ".py",
   "mimetype": "text/x-python",
   "name": "python",
   "nbconvert_exporter": "python",
   "pygments_lexer": "ipython3",
   "version": "3.6.2"
  }
 },
 "nbformat": 4,
 "nbformat_minor": 2
}
